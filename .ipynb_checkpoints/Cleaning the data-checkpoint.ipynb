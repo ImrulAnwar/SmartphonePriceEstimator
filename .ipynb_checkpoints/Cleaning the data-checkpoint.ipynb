{
 "cells": [
  {
   "cell_type": "markdown",
   "id": "8402376c",
   "metadata": {},
   "source": [
    "### Import the csv"
   ]
  },
  {
   "cell_type": "code",
   "execution_count": 1,
   "id": "81205a09",
   "metadata": {},
   "outputs": [],
   "source": [
    "import pandas as pd\n",
    "df = pd.read_csv('smartphone.csv')"
   ]
  },
  {
   "cell_type": "markdown",
   "id": "2e458d17",
   "metadata": {},
   "source": [
    "### Remove faulty data"
   ]
  },
  {
   "cell_type": "code",
   "execution_count": 2,
   "id": "af083d5b",
   "metadata": {},
   "outputs": [
    {
     "data": {
      "text/html": [
       "<div>\n",
       "<style scoped>\n",
       "    .dataframe tbody tr th:only-of-type {\n",
       "        vertical-align: middle;\n",
       "    }\n",
       "\n",
       "    .dataframe tbody tr th {\n",
       "        vertical-align: top;\n",
       "    }\n",
       "\n",
       "    .dataframe thead th {\n",
       "        text-align: right;\n",
       "    }\n",
       "</style>\n",
       "<table border=\"1\" class=\"dataframe\">\n",
       "  <thead>\n",
       "    <tr style=\"text-align: right;\">\n",
       "      <th></th>\n",
       "      <th>model</th>\n",
       "      <th>price</th>\n",
       "      <th>rating</th>\n",
       "      <th>sim</th>\n",
       "      <th>processor</th>\n",
       "      <th>ram</th>\n",
       "      <th>battery</th>\n",
       "      <th>display</th>\n",
       "      <th>camera</th>\n",
       "      <th>card</th>\n",
       "      <th>os</th>\n",
       "    </tr>\n",
       "  </thead>\n",
       "  <tbody>\n",
       "    <tr>\n",
       "      <th>0</th>\n",
       "      <td>OnePlus 11 5G</td>\n",
       "      <td>₹54,999</td>\n",
       "      <td>89.0</td>\n",
       "      <td>Dual Sim, 3G, 4G, 5G, VoLTE, Wi-Fi, NFC</td>\n",
       "      <td>Snapdragon 8 Gen2, Octa Core, 3.2 GHz Processor</td>\n",
       "      <td>12 GB RAM, 256 GB inbuilt</td>\n",
       "      <td>5000 mAh Battery with 100W Fast Charging</td>\n",
       "      <td>6.7 inches, 1440 x 3216 px, 120 Hz Display wit...</td>\n",
       "      <td>50 MP + 48 MP + 32 MP Triple Rear &amp; 16 MP Fron...</td>\n",
       "      <td>Memory Card Not Supported</td>\n",
       "      <td>Android v13</td>\n",
       "    </tr>\n",
       "    <tr>\n",
       "      <th>1</th>\n",
       "      <td>OnePlus Nord CE 2 Lite 5G</td>\n",
       "      <td>₹19,989</td>\n",
       "      <td>81.0</td>\n",
       "      <td>Dual Sim, 3G, 4G, 5G, VoLTE, Wi-Fi</td>\n",
       "      <td>Snapdragon 695, Octa Core, 2.2 GHz Processor</td>\n",
       "      <td>6 GB RAM, 128 GB inbuilt</td>\n",
       "      <td>5000 mAh Battery with 33W Fast Charging</td>\n",
       "      <td>6.59 inches, 1080 x 2412 px, 120 Hz Display wi...</td>\n",
       "      <td>64 MP + 2 MP + 2 MP Triple Rear &amp; 16 MP Front ...</td>\n",
       "      <td>Memory Card (Hybrid), upto 1 TB</td>\n",
       "      <td>Android v12</td>\n",
       "    </tr>\n",
       "    <tr>\n",
       "      <th>2</th>\n",
       "      <td>Samsung Galaxy A14 5G</td>\n",
       "      <td>₹16,499</td>\n",
       "      <td>75.0</td>\n",
       "      <td>Dual Sim, 3G, 4G, 5G, VoLTE, Wi-Fi</td>\n",
       "      <td>Exynos 1330, Octa Core, 2.4 GHz Processor</td>\n",
       "      <td>4 GB RAM, 64 GB inbuilt</td>\n",
       "      <td>5000 mAh Battery with 15W Fast Charging</td>\n",
       "      <td>6.6 inches, 1080 x 2408 px, 90 Hz Display with...</td>\n",
       "      <td>50 MP + 2 MP + 2 MP Triple Rear &amp; 13 MP Front ...</td>\n",
       "      <td>Memory Card Supported, upto 1 TB</td>\n",
       "      <td>Android v13</td>\n",
       "    </tr>\n",
       "    <tr>\n",
       "      <th>3</th>\n",
       "      <td>Motorola Moto G62 5G</td>\n",
       "      <td>₹14,999</td>\n",
       "      <td>81.0</td>\n",
       "      <td>Dual Sim, 3G, 4G, 5G, VoLTE, Wi-Fi</td>\n",
       "      <td>Snapdragon  695, Octa Core, 2.2 GHz Processor</td>\n",
       "      <td>6 GB RAM, 128 GB inbuilt</td>\n",
       "      <td>5000 mAh Battery with Fast Charging</td>\n",
       "      <td>6.55 inches, 1080 x 2400 px, 120 Hz Display wi...</td>\n",
       "      <td>50 MP + 8 MP + 2 MP Triple Rear &amp; 16 MP Front ...</td>\n",
       "      <td>Memory Card (Hybrid), upto 1 TB</td>\n",
       "      <td>Android v12</td>\n",
       "    </tr>\n",
       "    <tr>\n",
       "      <th>4</th>\n",
       "      <td>Realme 10 Pro Plus</td>\n",
       "      <td>₹24,999</td>\n",
       "      <td>82.0</td>\n",
       "      <td>Dual Sim, 3G, 4G, 5G, VoLTE, Wi-Fi</td>\n",
       "      <td>Dimensity 1080, Octa Core, 2.6 GHz Processor</td>\n",
       "      <td>6 GB RAM, 128 GB inbuilt</td>\n",
       "      <td>5000 mAh Battery with 67W Fast Charging</td>\n",
       "      <td>6.7 inches, 1080 x 2412 px, 120 Hz Display wit...</td>\n",
       "      <td>108 MP + 8 MP + 2 MP Triple Rear &amp; 16 MP Front...</td>\n",
       "      <td>Memory Card Not Supported</td>\n",
       "      <td>Android v13</td>\n",
       "    </tr>\n",
       "  </tbody>\n",
       "</table>\n",
       "</div>"
      ],
      "text/plain": [
       "                       model    price  rating  \\\n",
       "0              OnePlus 11 5G  ₹54,999    89.0   \n",
       "1  OnePlus Nord CE 2 Lite 5G  ₹19,989    81.0   \n",
       "2      Samsung Galaxy A14 5G  ₹16,499    75.0   \n",
       "3       Motorola Moto G62 5G  ₹14,999    81.0   \n",
       "4         Realme 10 Pro Plus  ₹24,999    82.0   \n",
       "\n",
       "                                       sim  \\\n",
       "0  Dual Sim, 3G, 4G, 5G, VoLTE, Wi-Fi, NFC   \n",
       "1       Dual Sim, 3G, 4G, 5G, VoLTE, Wi-Fi   \n",
       "2       Dual Sim, 3G, 4G, 5G, VoLTE, Wi-Fi   \n",
       "3       Dual Sim, 3G, 4G, 5G, VoLTE, Wi-Fi   \n",
       "4       Dual Sim, 3G, 4G, 5G, VoLTE, Wi-Fi   \n",
       "\n",
       "                                         processor                        ram  \\\n",
       "0  Snapdragon 8 Gen2, Octa Core, 3.2 GHz Processor  12 GB RAM, 256 GB inbuilt   \n",
       "1     Snapdragon 695, Octa Core, 2.2 GHz Processor   6 GB RAM, 128 GB inbuilt   \n",
       "2        Exynos 1330, Octa Core, 2.4 GHz Processor    4 GB RAM, 64 GB inbuilt   \n",
       "3    Snapdragon  695, Octa Core, 2.2 GHz Processor   6 GB RAM, 128 GB inbuilt   \n",
       "4     Dimensity 1080, Octa Core, 2.6 GHz Processor   6 GB RAM, 128 GB inbuilt   \n",
       "\n",
       "                                    battery  \\\n",
       "0  5000 mAh Battery with 100W Fast Charging   \n",
       "1   5000 mAh Battery with 33W Fast Charging   \n",
       "2   5000 mAh Battery with 15W Fast Charging   \n",
       "3       5000 mAh Battery with Fast Charging   \n",
       "4   5000 mAh Battery with 67W Fast Charging   \n",
       "\n",
       "                                             display  \\\n",
       "0  6.7 inches, 1440 x 3216 px, 120 Hz Display wit...   \n",
       "1  6.59 inches, 1080 x 2412 px, 120 Hz Display wi...   \n",
       "2  6.6 inches, 1080 x 2408 px, 90 Hz Display with...   \n",
       "3  6.55 inches, 1080 x 2400 px, 120 Hz Display wi...   \n",
       "4  6.7 inches, 1080 x 2412 px, 120 Hz Display wit...   \n",
       "\n",
       "                                              camera  \\\n",
       "0  50 MP + 48 MP + 32 MP Triple Rear & 16 MP Fron...   \n",
       "1  64 MP + 2 MP + 2 MP Triple Rear & 16 MP Front ...   \n",
       "2  50 MP + 2 MP + 2 MP Triple Rear & 13 MP Front ...   \n",
       "3  50 MP + 8 MP + 2 MP Triple Rear & 16 MP Front ...   \n",
       "4  108 MP + 8 MP + 2 MP Triple Rear & 16 MP Front...   \n",
       "\n",
       "                               card           os  \n",
       "0         Memory Card Not Supported  Android v13  \n",
       "1   Memory Card (Hybrid), upto 1 TB  Android v12  \n",
       "2  Memory Card Supported, upto 1 TB  Android v13  \n",
       "3   Memory Card (Hybrid), upto 1 TB  Android v12  \n",
       "4         Memory Card Not Supported  Android v13  "
      ]
     },
     "execution_count": 2,
     "metadata": {},
     "output_type": "execute_result"
    }
   ],
   "source": [
    "df.head()"
   ]
  },
  {
   "cell_type": "code",
   "execution_count": 3,
   "id": "35129992",
   "metadata": {},
   "outputs": [
    {
     "data": {
      "text/plain": [
       "model        1020\n",
       "price        1020\n",
       "rating        879\n",
       "sim          1020\n",
       "processor    1020\n",
       "ram          1020\n",
       "battery      1020\n",
       "display      1020\n",
       "camera       1019\n",
       "card         1013\n",
       "os           1003\n",
       "dtype: int64"
      ]
     },
     "execution_count": 3,
     "metadata": {},
     "output_type": "execute_result"
    }
   ],
   "source": [
    "df.count()"
   ]
  },
  {
   "cell_type": "code",
   "execution_count": 4,
   "id": "a0aac8b6",
   "metadata": {},
   "outputs": [
    {
     "data": {
      "text/plain": [
       "model        1003\n",
       "price        1003\n",
       "rating        879\n",
       "sim          1003\n",
       "processor    1003\n",
       "ram          1003\n",
       "battery      1003\n",
       "display      1003\n",
       "camera       1003\n",
       "card         1003\n",
       "os           1003\n",
       "dtype: int64"
      ]
     },
     "execution_count": 4,
     "metadata": {},
     "output_type": "execute_result"
    }
   ],
   "source": [
    "# remove null values from columns A and C\n",
    "df.dropna(subset=['camera', 'card', 'os'], inplace=True)\n",
    "df.count()"
   ]
  },
  {
   "cell_type": "code",
   "execution_count": 5,
   "id": "5d9cb4dd",
   "metadata": {},
   "outputs": [],
   "source": [
    "import re\n",
    "import pandas as pd\n",
    "\n",
    "def filter_dataframe(df, column, pattern):\n",
    "    mask = df[column].str.contains(pattern)\n",
    "    return df.loc[mask]"
   ]
  },
  {
   "cell_type": "code",
   "execution_count": 6,
   "id": "ef7f1b2c",
   "metadata": {},
   "outputs": [],
   "source": [
    "# Define the expected pattern for the battery information\n",
    "regex_dict = {'ram': r'\\d+\\u2009GB\\sRAM,\\s\\d+\\u2009GB\\sinbuilt',\n",
    "              'battery': r'\\d+\\s*mAh\\s+Battery',\n",
    "              'display': r'\\d+\\.\\d+\\sinches,\\s\\d+\\u2009x\\u2009\\d+\\u2009px',\n",
    "              'camera': r'^\\d+\\u2009MP.*Rear\\s&\\s\\d+\\u2009MP\\sFront\\sCamera$'}\n",
    "for column, pattern in regex_dict.items():\n",
    "    df = filter_dataframe(df, column, pattern)"
   ]
  },
  {
   "cell_type": "markdown",
   "id": "6b6b72cd",
   "metadata": {},
   "source": [
    "#### Testing each Columns individually"
   ]
  },
  {
   "cell_type": "code",
   "execution_count": 7,
   "id": "2828b6df",
   "metadata": {},
   "outputs": [
    {
     "data": {
      "text/plain": [
       "Index(['model', 'price', 'rating', 'sim', 'processor', 'ram', 'battery',\n",
       "       'display', 'camera', 'card', 'os'],\n",
       "      dtype='object')"
      ]
     },
     "execution_count": 7,
     "metadata": {},
     "output_type": "execute_result"
    }
   ],
   "source": [
    "df.columns"
   ]
  },
  {
   "cell_type": "code",
   "execution_count": 8,
   "id": "9c49a448",
   "metadata": {},
   "outputs": [
    {
     "name": "stdout",
     "output_type": "stream",
     "text": [
      "['Memory Card Not Supported' 'Memory Card (Hybrid), upto 1\\u2009TB'\n",
      " 'Memory Card Supported, upto 1\\u2009TB' 'Android v12'\n",
      " 'Memory Card Supported' 'Android v13' 'Memory Card (Hybrid)'\n",
      " 'Memory Card Supported, upto 512\\u2009GB'\n",
      " 'Memory Card Supported, upto 256\\u2009GB'\n",
      " 'Memory Card Supported, upto 2\\u2009TB' 'Android v11'\n",
      " 'Memory Card (Hybrid), upto 256\\u2009GB'\n",
      " 'Memory Card (Hybrid), upto 128\\u2009GB'\n",
      " 'Memory Card Supported, upto 128\\u2009GB'\n",
      " 'Memory Card (Hybrid), upto 512\\u2009GB'\n",
      " 'Memory Card Supported, upto 32\\u2009GB' 'Android v10'\n",
      " 'Android v9.0 (Pie)' 'Android v12.1'\n",
      " 'Memory Card (Hybrid), upto 64\\u2009GB'\n",
      " 'Memory Card Supported, upto 1000\\u2009GB' 'iOS v10' 'Android v10.0'\n",
      " 'iOS v13' 'HarmonyOS v2.0' 'Memory Card (Hybrid), upto 2\\u2009TB'\n",
      " 'HarmonyOS']\n"
     ]
    }
   ],
   "source": [
    "uni_list = df['card'].unique()\n",
    "print(uni_list)"
   ]
  },
  {
   "cell_type": "code",
   "execution_count": 9,
   "id": "10cf80bb",
   "metadata": {},
   "outputs": [
    {
     "data": {
      "text/plain": [
       "array(['Memory Card Not Supported',\n",
       "       'Memory Card (Hybrid), upto 1\\u2009TB',\n",
       "       'Memory Card Supported, upto 1\\u2009TB', 'Android v12',\n",
       "       'Memory Card Supported', 'Android v13', 'Memory Card (Hybrid)',\n",
       "       'Memory Card Supported, upto 512\\u2009GB',\n",
       "       'Memory Card Supported, upto 256\\u2009GB',\n",
       "       'Memory Card Supported, upto 2\\u2009TB', 'Android v11',\n",
       "       'Memory Card (Hybrid), upto 256\\u2009GB',\n",
       "       'Memory Card (Hybrid), upto 128\\u2009GB',\n",
       "       'Memory Card Supported, upto 128\\u2009GB',\n",
       "       'Memory Card (Hybrid), upto 512\\u2009GB',\n",
       "       'Memory Card Supported, upto 32\\u2009GB', 'Android v10',\n",
       "       'Android v9.0 (Pie)', 'Android v12.1',\n",
       "       'Memory Card (Hybrid), upto 64\\u2009GB',\n",
       "       'Memory Card Supported, upto 1000\\u2009GB', 'iOS v10',\n",
       "       'Android v10.0', 'iOS v13', 'HarmonyOS v2.0',\n",
       "       'Memory Card (Hybrid), upto 2\\u2009TB', 'HarmonyOS'], dtype=object)"
      ]
     },
     "execution_count": 9,
     "metadata": {},
     "output_type": "execute_result"
    }
   ],
   "source": [
    "# Define the expected pattern for the battery information\n",
    "pattern = r'^Memory'\n",
    "column = 'card'\n",
    "mask = df[column].str.contains(pattern)\n",
    "\n",
    "# Filter out the rows that don't match the pattern\n",
    "# df = df.loc[mask]\n",
    "df[column].unique()"
   ]
  },
  {
   "cell_type": "code",
   "execution_count": 10,
   "id": "8341347f",
   "metadata": {},
   "outputs": [
    {
     "data": {
      "text/plain": [
       "android    657\n",
       "other      200\n",
       "ios         29\n",
       "Name: os, dtype: int64"
      ]
     },
     "execution_count": 10,
     "metadata": {},
     "output_type": "execute_result"
    }
   ],
   "source": [
    "def map_os(os):\n",
    "    if pd.isna(os):\n",
    "        return 'other'\n",
    "    elif 'android' in os.lower():\n",
    "        return 'android'\n",
    "    elif 'ios' in os.lower():\n",
    "        return 'ios'\n",
    "    else:\n",
    "        return 'other'\n",
    "\n",
    "# Apply the function to the os column and fill remaining null values with 'other'\n",
    "df['os'] = df['os'].apply(map_os).fillna('other')\n",
    "df['os'].value_counts()"
   ]
  },
  {
   "cell_type": "code",
   "execution_count": 11,
   "id": "6b9e0926",
   "metadata": {},
   "outputs": [
    {
     "data": {
      "text/plain": [
       "Supported        692\n",
       "Not Supported    194\n",
       "Name: card, dtype: int64"
      ]
     },
     "execution_count": 11,
     "metadata": {},
     "output_type": "execute_result"
    }
   ],
   "source": [
    "def map_memory_card_support(text):\n",
    "    if pd.isna(text):\n",
    "        return 'other'\n",
    "    elif 'supported' in text.lower() or 'hybrid' in text.lower():\n",
    "        return 'Supported'\n",
    "    else:\n",
    "        return 'Not Supported'\n",
    "    \n",
    "# Apply the function to the os column and fill remaining null values with 'other'\n",
    "df['card'] = df['card'].apply(map_memory_card_support).fillna('other')\n",
    "df['card'].value_counts()"
   ]
  },
  {
   "cell_type": "code",
   "execution_count": 12,
   "id": "dbd4e814",
   "metadata": {},
   "outputs": [
    {
     "data": {
      "text/plain": [
       "model        886\n",
       "price        886\n",
       "rating       818\n",
       "sim          886\n",
       "processor    886\n",
       "ram          886\n",
       "battery      886\n",
       "display      886\n",
       "camera       886\n",
       "card         886\n",
       "os           886\n",
       "dtype: int64"
      ]
     },
     "execution_count": 12,
     "metadata": {},
     "output_type": "execute_result"
    }
   ],
   "source": [
    "df.count()"
   ]
  },
  {
   "cell_type": "code",
   "execution_count": 13,
   "id": "3a533a54",
   "metadata": {},
   "outputs": [
    {
     "data": {
      "text/html": [
       "<div>\n",
       "<style scoped>\n",
       "    .dataframe tbody tr th:only-of-type {\n",
       "        vertical-align: middle;\n",
       "    }\n",
       "\n",
       "    .dataframe tbody tr th {\n",
       "        vertical-align: top;\n",
       "    }\n",
       "\n",
       "    .dataframe thead th {\n",
       "        text-align: right;\n",
       "    }\n",
       "</style>\n",
       "<table border=\"1\" class=\"dataframe\">\n",
       "  <thead>\n",
       "    <tr style=\"text-align: right;\">\n",
       "      <th></th>\n",
       "      <th>model</th>\n",
       "      <th>price</th>\n",
       "      <th>rating</th>\n",
       "      <th>sim</th>\n",
       "      <th>processor</th>\n",
       "      <th>ram</th>\n",
       "      <th>battery</th>\n",
       "      <th>display</th>\n",
       "      <th>camera</th>\n",
       "      <th>card</th>\n",
       "      <th>os</th>\n",
       "    </tr>\n",
       "  </thead>\n",
       "  <tbody>\n",
       "    <tr>\n",
       "      <th>0</th>\n",
       "      <td>OnePlus 11 5G</td>\n",
       "      <td>₹54,999</td>\n",
       "      <td>89.0</td>\n",
       "      <td>Dual Sim, 3G, 4G, 5G, VoLTE, Wi-Fi, NFC</td>\n",
       "      <td>Snapdragon 8 Gen2, Octa Core, 3.2 GHz Processor</td>\n",
       "      <td>12 GB RAM, 256 GB inbuilt</td>\n",
       "      <td>5000 mAh Battery with 100W Fast Charging</td>\n",
       "      <td>6.7 inches, 1440 x 3216 px, 120 Hz Display wit...</td>\n",
       "      <td>50 MP + 48 MP + 32 MP Triple Rear &amp; 16 MP Fron...</td>\n",
       "      <td>Supported</td>\n",
       "      <td>android</td>\n",
       "    </tr>\n",
       "    <tr>\n",
       "      <th>1</th>\n",
       "      <td>OnePlus Nord CE 2 Lite 5G</td>\n",
       "      <td>₹19,989</td>\n",
       "      <td>81.0</td>\n",
       "      <td>Dual Sim, 3G, 4G, 5G, VoLTE, Wi-Fi</td>\n",
       "      <td>Snapdragon 695, Octa Core, 2.2 GHz Processor</td>\n",
       "      <td>6 GB RAM, 128 GB inbuilt</td>\n",
       "      <td>5000 mAh Battery with 33W Fast Charging</td>\n",
       "      <td>6.59 inches, 1080 x 2412 px, 120 Hz Display wi...</td>\n",
       "      <td>64 MP + 2 MP + 2 MP Triple Rear &amp; 16 MP Front ...</td>\n",
       "      <td>Supported</td>\n",
       "      <td>android</td>\n",
       "    </tr>\n",
       "    <tr>\n",
       "      <th>2</th>\n",
       "      <td>Samsung Galaxy A14 5G</td>\n",
       "      <td>₹16,499</td>\n",
       "      <td>75.0</td>\n",
       "      <td>Dual Sim, 3G, 4G, 5G, VoLTE, Wi-Fi</td>\n",
       "      <td>Exynos 1330, Octa Core, 2.4 GHz Processor</td>\n",
       "      <td>4 GB RAM, 64 GB inbuilt</td>\n",
       "      <td>5000 mAh Battery with 15W Fast Charging</td>\n",
       "      <td>6.6 inches, 1080 x 2408 px, 90 Hz Display with...</td>\n",
       "      <td>50 MP + 2 MP + 2 MP Triple Rear &amp; 13 MP Front ...</td>\n",
       "      <td>Supported</td>\n",
       "      <td>android</td>\n",
       "    </tr>\n",
       "    <tr>\n",
       "      <th>3</th>\n",
       "      <td>Motorola Moto G62 5G</td>\n",
       "      <td>₹14,999</td>\n",
       "      <td>81.0</td>\n",
       "      <td>Dual Sim, 3G, 4G, 5G, VoLTE, Wi-Fi</td>\n",
       "      <td>Snapdragon  695, Octa Core, 2.2 GHz Processor</td>\n",
       "      <td>6 GB RAM, 128 GB inbuilt</td>\n",
       "      <td>5000 mAh Battery with Fast Charging</td>\n",
       "      <td>6.55 inches, 1080 x 2400 px, 120 Hz Display wi...</td>\n",
       "      <td>50 MP + 8 MP + 2 MP Triple Rear &amp; 16 MP Front ...</td>\n",
       "      <td>Supported</td>\n",
       "      <td>android</td>\n",
       "    </tr>\n",
       "    <tr>\n",
       "      <th>4</th>\n",
       "      <td>Realme 10 Pro Plus</td>\n",
       "      <td>₹24,999</td>\n",
       "      <td>82.0</td>\n",
       "      <td>Dual Sim, 3G, 4G, 5G, VoLTE, Wi-Fi</td>\n",
       "      <td>Dimensity 1080, Octa Core, 2.6 GHz Processor</td>\n",
       "      <td>6 GB RAM, 128 GB inbuilt</td>\n",
       "      <td>5000 mAh Battery with 67W Fast Charging</td>\n",
       "      <td>6.7 inches, 1080 x 2412 px, 120 Hz Display wit...</td>\n",
       "      <td>108 MP + 8 MP + 2 MP Triple Rear &amp; 16 MP Front...</td>\n",
       "      <td>Supported</td>\n",
       "      <td>android</td>\n",
       "    </tr>\n",
       "  </tbody>\n",
       "</table>\n",
       "</div>"
      ],
      "text/plain": [
       "                       model    price  rating  \\\n",
       "0              OnePlus 11 5G  ₹54,999    89.0   \n",
       "1  OnePlus Nord CE 2 Lite 5G  ₹19,989    81.0   \n",
       "2      Samsung Galaxy A14 5G  ₹16,499    75.0   \n",
       "3       Motorola Moto G62 5G  ₹14,999    81.0   \n",
       "4         Realme 10 Pro Plus  ₹24,999    82.0   \n",
       "\n",
       "                                       sim  \\\n",
       "0  Dual Sim, 3G, 4G, 5G, VoLTE, Wi-Fi, NFC   \n",
       "1       Dual Sim, 3G, 4G, 5G, VoLTE, Wi-Fi   \n",
       "2       Dual Sim, 3G, 4G, 5G, VoLTE, Wi-Fi   \n",
       "3       Dual Sim, 3G, 4G, 5G, VoLTE, Wi-Fi   \n",
       "4       Dual Sim, 3G, 4G, 5G, VoLTE, Wi-Fi   \n",
       "\n",
       "                                         processor                        ram  \\\n",
       "0  Snapdragon 8 Gen2, Octa Core, 3.2 GHz Processor  12 GB RAM, 256 GB inbuilt   \n",
       "1     Snapdragon 695, Octa Core, 2.2 GHz Processor   6 GB RAM, 128 GB inbuilt   \n",
       "2        Exynos 1330, Octa Core, 2.4 GHz Processor    4 GB RAM, 64 GB inbuilt   \n",
       "3    Snapdragon  695, Octa Core, 2.2 GHz Processor   6 GB RAM, 128 GB inbuilt   \n",
       "4     Dimensity 1080, Octa Core, 2.6 GHz Processor   6 GB RAM, 128 GB inbuilt   \n",
       "\n",
       "                                    battery  \\\n",
       "0  5000 mAh Battery with 100W Fast Charging   \n",
       "1   5000 mAh Battery with 33W Fast Charging   \n",
       "2   5000 mAh Battery with 15W Fast Charging   \n",
       "3       5000 mAh Battery with Fast Charging   \n",
       "4   5000 mAh Battery with 67W Fast Charging   \n",
       "\n",
       "                                             display  \\\n",
       "0  6.7 inches, 1440 x 3216 px, 120 Hz Display wit...   \n",
       "1  6.59 inches, 1080 x 2412 px, 120 Hz Display wi...   \n",
       "2  6.6 inches, 1080 x 2408 px, 90 Hz Display with...   \n",
       "3  6.55 inches, 1080 x 2400 px, 120 Hz Display wi...   \n",
       "4  6.7 inches, 1080 x 2412 px, 120 Hz Display wit...   \n",
       "\n",
       "                                              camera       card       os  \n",
       "0  50 MP + 48 MP + 32 MP Triple Rear & 16 MP Fron...  Supported  android  \n",
       "1  64 MP + 2 MP + 2 MP Triple Rear & 16 MP Front ...  Supported  android  \n",
       "2  50 MP + 2 MP + 2 MP Triple Rear & 13 MP Front ...  Supported  android  \n",
       "3  50 MP + 8 MP + 2 MP Triple Rear & 16 MP Front ...  Supported  android  \n",
       "4  108 MP + 8 MP + 2 MP Triple Rear & 16 MP Front...  Supported  android  "
      ]
     },
     "execution_count": 13,
     "metadata": {},
     "output_type": "execute_result"
    }
   ],
   "source": [
    "df.head()"
   ]
  },
  {
   "cell_type": "markdown",
   "id": "1b8a3191",
   "metadata": {},
   "source": [
    "### Extract New Columns\n",
    "brand, sim slot, sim generation, isVoLTE, hasIRBlaster, hasNFC, hasVo5g, processorManufacturer, processorModel,RAMSize, ROMSize, BatterySize, ChargingSpeed, displaySize, displayResolution, displayRefreshRate, BackCamera, FrontCamera, BackCameraSetup."
   ]
  },
  {
   "cell_type": "code",
   "execution_count": 14,
   "id": "62398025",
   "metadata": {},
   "outputs": [],
   "source": [
    "df['brand'] = df['model'].str.split().str[0]\n",
    "df['proc_mod'] = df['processor'].str.extract(r'^([\\w\\s]+?),')\n",
    "df.dropna(subset=[\"proc_mod\"], inplace = True)\n",
    "df['proc_man'] = df['proc_mod'].str.split().str[0]"
   ]
  },
  {
   "cell_type": "code",
   "execution_count": 15,
   "id": "834eb079",
   "metadata": {},
   "outputs": [],
   "source": [
    "# Define a function to extract the processor speed using regex\n",
    "def extract_processor_speed(text):\n",
    "    pattern = r'\\d+\\.\\d+\\s*GHz'  # regex pattern to match processor speed\n",
    "    match = re.search(pattern, text)\n",
    "    if match:\n",
    "        return match.group(0)\n",
    "    else:\n",
    "        return None\n",
    "\n",
    "# Apply the function to extract the processor speed and add it as a new column in the DataFrame\n",
    "df['proc_speed'] = df['processor'].apply(extract_processor_speed)\n",
    "df.drop(\"processor\", axis = 1, inplace = True)"
   ]
  },
  {
   "cell_type": "code",
   "execution_count": 16,
   "id": "2f70334e",
   "metadata": {},
   "outputs": [],
   "source": [
    "# Define a function to extract sim slot info\n",
    "def get_sim_slots(row):\n",
    "    if 'Dual' in row['sim']:\n",
    "        return 2\n",
    "    else:\n",
    "        return 1\n",
    "\n",
    "# Apply the function to create a new column\n",
    "df['sim_slot'] = df.apply(get_sim_slots, axis=1)"
   ]
  },
  {
   "cell_type": "code",
   "execution_count": 17,
   "id": "4406ba61",
   "metadata": {},
   "outputs": [],
   "source": [
    "# Create isVoLTE column\n",
    "df['isVoLTE'] = df['sim'].apply(lambda x: 1 if 'VoLTE' in x else 0)\n",
    "# Create hasIRBlaster column\n",
    "df['hasIRBlaster'] = df['sim'].apply(lambda x: 1 if 'IR' in x else 0)\n",
    "# Create NFC column\n",
    "df['hasNFC'] = df['sim'].apply(lambda x: 1 if 'NFC' in x else 0)\n",
    "# Create 5G column\n",
    "df['has5G'] = df['sim'].apply(lambda x: 1 if '5G' in x else 0)\n",
    "df.drop('sim', axis = 1, inplace = True)"
   ]
  },
  {
   "cell_type": "code",
   "execution_count": 18,
   "id": "9d5816b8",
   "metadata": {},
   "outputs": [],
   "source": [
    "# extract RAM and ROM sizes using regular expressions\n",
    "df['ram_size'] = df['ram'].apply(lambda x: int(re.search(r'(\\d+)\\s*GB\\s*RAM', x).group(1)))\n",
    "df['rom_size'] = df['ram'].apply(lambda x: int(re.search(r'(\\d+)\\s*GB\\s*inbuilt', x).group(1)))\n",
    "df.drop('ram', axis = 1, inplace = True)"
   ]
  },
  {
   "cell_type": "code",
   "execution_count": 19,
   "id": "5e725875",
   "metadata": {},
   "outputs": [],
   "source": [
    "def extract_charging_speed(text):\n",
    "    match = re.search(r'(\\d+(\\.\\d+)?)W', text)\n",
    "    if match:\n",
    "        return float(match.group(1))\n",
    "    else:\n",
    "        return 10.0 # default value\n"
   ]
  },
  {
   "cell_type": "code",
   "execution_count": 20,
   "id": "a643ed74",
   "metadata": {},
   "outputs": [],
   "source": [
    "df['charging_speed'] = df['battery'].apply(extract_charging_speed)\n",
    "# Extract battery capacity using regular expression\n",
    "df['battery_capacity'] = df['battery'].str.extract('(\\d+)\\s*mAh', expand=False).astype(int)\n",
    "df.drop('battery', axis = 1, inplace = True)"
   ]
  },
  {
   "cell_type": "code",
   "execution_count": 21,
   "id": "ac04ad3b",
   "metadata": {
    "scrolled": true
   },
   "outputs": [],
   "source": [
    "df.rename(columns={'price':'pr', 'ram_size':'ram', 'rom_size':'rom'}, inplace=True)"
   ]
  },
  {
   "cell_type": "code",
   "execution_count": 22,
   "id": "86bb174d",
   "metadata": {},
   "outputs": [],
   "source": [
    "# function to extract display refresh rate from the display column\n",
    "def extract_refresh_rate(text):\n",
    "    match = re.search(r'(\\d+)\\s*Hz', text)\n",
    "    if match:\n",
    "        return int(match.group(1))\n",
    "    else:\n",
    "        return 60 # default value"
   ]
  },
  {
   "cell_type": "code",
   "execution_count": 23,
   "id": "27e5d0fc",
   "metadata": {},
   "outputs": [],
   "source": [
    "def get_display_resolution(s):\n",
    "    match = re.search(r'([\\d.]+)\\s*inches,\\s*(\\d+)\\s*x\\s*(\\d+)\\s*px', s)\n",
    "    if match:\n",
    "        res = int(match.group(2))\n",
    "        if res >= 2160:\n",
    "            return 2160\n",
    "        elif res >= 1440:\n",
    "            return 1440\n",
    "        elif res >= 1080:\n",
    "            return 1080\n",
    "    return 720"
   ]
  },
  {
   "cell_type": "code",
   "execution_count": 24,
   "id": "faecc36e",
   "metadata": {},
   "outputs": [],
   "source": [
    "# apply the function to the display column and create a new column\n",
    "df['display_refresh_rate'] = df['display'].apply(extract_refresh_rate)\n",
    "# Apply regular expression pattern to extract display size\n",
    "df['display_size'] = df['display'].str.extract(r'([\\d.]+)\\s*inches', expand=False).astype(float)\n",
    "df['display_resolution'] = df['display'].apply(get_display_resolution)\n",
    "df.drop('display', axis = 1, inplace = True)"
   ]
  },
  {
   "cell_type": "code",
   "execution_count": 25,
   "id": "d90ae301",
   "metadata": {},
   "outputs": [
    {
     "data": {
      "text/plain": [
       "array([1440, 1080,  720, 2160], dtype=int64)"
      ]
     },
     "execution_count": 25,
     "metadata": {},
     "output_type": "execute_result"
    }
   ],
   "source": [
    "df['display_resolution'].unique()"
   ]
  },
  {
   "cell_type": "code",
   "execution_count": 28,
   "id": "5fc0173d",
   "metadata": {},
   "outputs": [
    {
     "data": {
      "text/plain": [
       "'50\\u2009MP + 48\\u2009MP + 32\\u2009MP Triple Rear & 16\\u2009MP Front Camera'"
      ]
     },
     "execution_count": 28,
     "metadata": {},
     "output_type": "execute_result"
    }
   ],
   "source": [
    "df['camera'][0]"
   ]
  }
 ],
 "metadata": {
  "kernelspec": {
   "display_name": "Python 3 (ipykernel)",
   "language": "python",
   "name": "python3"
  },
  "language_info": {
   "codemirror_mode": {
    "name": "ipython",
    "version": 3
   },
   "file_extension": ".py",
   "mimetype": "text/x-python",
   "name": "python",
   "nbconvert_exporter": "python",
   "pygments_lexer": "ipython3",
   "version": "3.11.1"
  }
 },
 "nbformat": 4,
 "nbformat_minor": 5
}
